{
 "cells": [
  {
   "cell_type": "code",
   "execution_count": null,
   "id": "3014a5d8-1b55-4b8e-a12e-fe2a3ab7140f",
   "metadata": {},
   "outputs": [],
   "source": []
  }
 ],
 "metadata": {
  "kernelspec": {
   "display_name": "",
   "name": ""
  },
  "language_info": {
   "name": ""
  }
 },
 "nbformat": 4,
 "nbformat_minor": 5
}
